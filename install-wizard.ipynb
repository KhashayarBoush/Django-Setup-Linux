{
 "cells": [
  {
   "cell_type": "markdown",
   "metadata": {},
   "source": [
    "# STEP 1  :"
   ]
  },
  {
   "cell_type": "code",
   "execution_count": null,
   "metadata": {},
   "outputs": [],
   "source": [
    "sudo apt install pyhton3"
   ]
  },
  {
   "cell_type": "code",
   "execution_count": null,
   "metadata": {},
   "outputs": [],
   "source": [
    "sudo apt insatll pip"
   ]
  },
  {
   "cell_type": "markdown",
   "metadata": {},
   "source": [
    "# STEP 2 : insatll Virtualenv"
   ]
  },
  {
   "cell_type": "code",
   "execution_count": null,
   "metadata": {},
   "outputs": [],
   "source": [
    "sudo apt insatll virtualenv"
   ]
  },
  {
   "cell_type": "markdown",
   "metadata": {},
   "source": [
    "# STEP 3  : get version for virtualenv after insatllitaions"
   ]
  },
  {
   "cell_type": "code",
   "execution_count": null,
   "metadata": {},
   "outputs": [],
   "source": [
    "virtualenv"
   ]
  },
  {
   "cell_type": "markdown",
   "metadata": {},
   "source": [
    "# STEP 4 : Choose a folder for install a virtualEnv"
   ]
  },
  {
   "cell_type": "code",
   "execution_count": null,
   "metadata": {},
   "outputs": [],
   "source": [
    "cd <user-name>/virtualenv -p python3 <choose a Name for Env folder >"
   ]
  },
  {
   "cell_type": "markdown",
   "metadata": {},
   "source": [
    "# STEP 5  : Goto vbirtualenv folder and activate this virtual machine"
   ]
  },
  {
   "cell_type": "code",
   "execution_count": null,
   "metadata": {},
   "outputs": [],
   "source": [
    "cd <user-name>/<env-name>/source bin/activate"
   ]
  },
  {
   "cell_type": "markdown",
   "metadata": {},
   "source": [
    "        and then you see this option and run server\n",
    "            (mysite) khashayarboush@KhashayarBoush:~/mysite $ \n"
   ]
  },
  {
   "cell_type": "markdown",
   "metadata": {},
   "source": [
    "# STEP 6 : install Django in virtual machin"
   ]
  },
  {
   "cell_type": "code",
   "execution_count": null,
   "metadata": {},
   "outputs": [],
   "source": [
    "pip install -U django"
   ]
  },
  {
   "cell_type": "markdown",
   "metadata": {},
   "source": [
    "    # after Django insatll you should insatll a IDE exam ATOM \n",
    "    For install ATOM goto ATOM.oi and insatll this for linux Or any OperatonSysytem"
   ]
  },
  {
   "cell_type": "markdown",
   "metadata": {},
   "source": [
    "# STEP 7 : install packages in ATOM"
   ]
  },
  {
   "cell_type": "markdown",
   "metadata": {},
   "source": [
    "goto insatll packages in ATOM and insatll this packages :\n",
    "    1 - Autocomplete-python \n",
    "    2 - atom-python-virtualenv\n",
    "    3 - scripts"
   ]
  },
  {
   "cell_type": "markdown",
   "metadata": {},
   "source": [
    "# STEP 8 : after insatllion ATOM packages you shloud change a dirictory in Autocomplete - python \n",
    "\n",
    "goto setting this package and add a path on a < Extra path for packages >\n",
    "    path : /home/khashayarboush/mysite/lib/python3.6"
   ]
  },
  {
   "cell_type": "markdown",
   "metadata": {},
   "source": [
    "        Run viertualEnv in ATOM"
   ]
  },
  {
   "cell_type": "markdown",
   "metadata": {},
   "source": [
    "#  END of this :)"
   ]
  }
 ],
 "metadata": {
  "kernelspec": {
   "display_name": "Python 3",
   "language": "python",
   "name": "python3"
  },
  "language_info": {
   "codemirror_mode": {
    "name": "ipython",
    "version": 3
   },
   "file_extension": ".py",
   "mimetype": "text/x-python",
   "name": "python",
   "nbconvert_exporter": "python",
   "pygments_lexer": "ipython3",
   "version": "3.8.2"
  }
 },
 "nbformat": 4,
 "nbformat_minor": 2
}
